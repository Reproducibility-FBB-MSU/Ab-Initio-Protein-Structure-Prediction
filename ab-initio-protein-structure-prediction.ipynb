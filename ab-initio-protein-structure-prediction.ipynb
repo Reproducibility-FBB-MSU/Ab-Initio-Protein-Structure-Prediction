{
 "cells": [
  {
   "cell_type": "markdown",
   "metadata": {},
   "source": [
    "# Ab Initio Protein Structure Prediction"
   ]
  },
  {
   "cell_type": "code",
   "execution_count": 2,
   "metadata": {},
   "outputs": [],
   "source": [
    "path = '/home/domain/diankin/progs/PyRosetta4.Release.python36.linux.release-190'\n",
    "\n",
    "import sys\n",
    "sys.path.insert(0, path)"
   ]
  },
  {
   "cell_type": "code",
   "execution_count": 80,
   "metadata": {},
   "outputs": [],
   "source": [
    "import os\n",
    "import glob\n",
    "import shutil\n",
    "import seaborn as sns\n",
    "import pandas as pd\n",
    "import numpy as np\n",
    "import nglview as ngl"
   ]
  },
  {
   "cell_type": "markdown",
   "metadata": {},
   "source": [
    "Задачей данного проекта являлось воспроизведение фолдинга (укладки) двух белков из статьи *«Ab Initio Protein Structure Prediction of CASP III Targets Using ROSETTA»* Кима Т. Саймонса, Рича Бонно, Инго Ручински и Дэвида Бейкера: **L30** (слева) и **MarA** (справа).\n",
    "\n",
    "<img src=\"images/1bxy_native.png\" width=\"400\" align=\"left\"/><img src=\"files/images/1bl0_native.png\" width=\"550\" align=\"rigth\"/>"
   ]
  },
  {
   "cell_type": "markdown",
   "metadata": {},
   "source": [
    "**Rosetta** — это программный пакет для макромолекулярного моделирования. Фактически это не одна монолитная программа, а большая коллекция различных функций и методов, написанных в основном на C++, позволяющих измерять и оценивать различные характеристики (энергетические, конформационные, структурные и т. д.) биологических макромолекул: обычно белков, но возможно и нуклеиновых кислот, лигандов и липидных мембран. \n",
    "\n",
    "<img src=\"files/images/py_goals.png\">"
   ]
  },
  {
   "cell_type": "markdown",
   "metadata": {},
   "source": [
    "Чтобы сделать Rosetta доступной для широкого круга пользователей с различным уровнем программирования, была разработана интерактивная платформа **PyRosetta**, написанная на языке Python, для доступа к объектам и алгоритмам пакета Rosetta. В PyRosetta пользователи могут манипулировать белковыми конформациями, вычислять энергии целых макромолекул или отдельных их частей, собирать белки из последовательностей, моделировать вариабельные области третичной структуры (петели), стыковать белки и небольшие молекулы и проектировать новые белковые последовательности. Кроме того, имея доступ к основным объектам оптимизации Rosetta, пользователи могут создавать собственные протоколы для операций, адаптированных к конкретным биомолекулярным приложениям (фолдинг, докинг, мутирование и т. д.). \n",
    "\n",
    "<img src=\"files/images/py_design.png\">\n"
   ]
  },
  {
   "cell_type": "code",
   "execution_count": 36,
   "metadata": {},
   "outputs": [
    {
     "name": "stdout",
     "output_type": "stream",
     "text": [
      "Found rosetta database at: /home/domain/diankin/progs/PyRosetta4.Release.python36.linux.release-190/pyrosetta/database; using it....\n",
      "PyRosetta-4 2017 [Rosetta PyRosetta4.Release.python36.linux 2018.35+release.c013c1ac013c1a7aa74afcad9052a45093801a3d25298ba 2018-08-30T11:03:20] retrieved from: http://www.pyrosetta.org\n",
      "(C) Copyright Rosetta Commons Member Institutions.\n",
      "Created in JHU by Sergey Lyskov and PyRosetta Team.\n",
      "\n",
      "core.init: Checking for fconfig files in pwd and ./rosetta/flags\n",
      "core.init: Rosetta version: PyRosetta4.Release.python36.linux r190 2018.35+release.c013c1a c013c1a7aa74afcad9052a45093801a3d25298ba http://www.pyrosetta.org 2018-08-30T11:03:20\n",
      "core.init: command: PyRosetta -ex1 -ex2aro -database /home/domain/diankin/progs/PyRosetta4.Release.python36.linux.release-190/pyrosetta/database\n",
      "core.init: 'RNG device' seed mode, using '/dev/urandom', seed=865499500 seed_offset=0 real_seed=865499500\n",
      "core.init.random: RandomGenerator:init: Normal mode, seed=865499500 RG_type=mt19937\n"
     ]
    }
   ],
   "source": [
    "from pyrosetta import *\n",
    "from pyrosetta.toolbox import pose_from_rcsb\n",
    "from pyrosetta.teaching import *\n",
    "from rosetta.protocols.simple_moves import *\n",
    "from pyrosetta.rosetta.protocols.moves import MonteCarlo\n",
    "from pyrosetta.rosetta.protocols.relax import FastRelax\n",
    "from rosetta.core.fragment import *\n",
    "from pyrosetta.rosetta.core.scoring import ScoreFunctionFactory \n",
    "from pyrosetta.toolbox import get_secstruct\n",
    "init()   # for proteins with β-sheets: init('-corrections::beta')"
   ]
  },
  {
   "cell_type": "markdown",
   "metadata": {},
   "source": [
    "Обычно для простых задач достаточно использовать готовые протоколы Rosetta (отдельные скрипты с прописанными в нужном порядке наборами функций). Каждому протоколу подаются структура и параметры. Параметры подбираются таким образом, чтобы не противоречить реальным данным и соответствовать результатам эксперимента. В случае фолдинга подобных параметров нет, поэтому необходимо использовать подход ***ab initio*** — решение задачи из первых основополагающих принципов без привлечения дополнительных эмпирических предположений, т. е. без использования эксперементальных данных. Одним из них является метод Монте-Карло (МС в блок-схеме, представленной выше). Это стохастический алгоритм для задач, время решения которых экспоненциально зависит от количества входных данных. Суть его состоит в том, что на каждом шаге рассматриваемая конформация молекулы изменяется случайным образом: молекуле произвольно присваиваются новые значения торсионных углов. \n",
    "\n",
    "<img src=\"files/images/dih.png\">\n",
    "\n",
    "Для оценки получившейся структуры используется функция, подсчиывающая score (корелирующее с энергией численное значение качества конформации), учитывающий ковалентные и нековалентные характеристики стуктуры (длины и геометрию связей, ван-дер-ваальсовы радиусы, электростатические взаимодействия и т. п.). Score по сути является взвешенной суммой этих характеристик с поправочнымы коэффициентами перед каждым слагаемым (коэффициенты подбираются эмпирически на основе ранее проделанных эксперементов или рачитываются математически). Получившейся score минимизируется, поскольку наиболее оптимальная конформация должна обладать наименьшей энергией. После этого возможны два пути: если score новой структуры $ E_2 $ меньше score предыдущей $ E_1 $, то новая конформация принимается однозначно; если больше либо равен, то используется критерий Метрополиса. Таким образом, если $ X $ — новая конформация, а $ E_2- E_1 = dE $, то: \n",
    "\n",
    "\\begin{equation*}\n",
    "P(X) = \n",
    " \\begin{cases}\n",
    "   e^\\frac{-dE}{kT}, &{dE \\ge 0} \\\\\n",
    "   1, &{dE < 0: } \\\\\n",
    " \\end{cases} \n",
    "\\end{equation*}\n",
    "\n",
    "Критерий Метрополиса нужен для достижения глобального минимума по score при исследовании конформацииного пространства: если отбрасывать все структуры с большим score, то возможна утрата выгодных конформаций на последующих этапах алгоритма Монте-Карло."
   ]
  },
  {
   "cell_type": "markdown",
   "metadata": {},
   "source": [
    "<img src=\"files/images/conf_space.png\">\n",
    "<img src=\"files/images/energy_landscape.png\">"
   ]
  },
  {
   "cell_type": "markdown",
   "metadata": {},
   "source": [
    "Реализация алгоритма Монте-Карло и кртитерия Мтерополиса на языке Python выглядит примерно так:"
   ]
  },
  {
   "cell_type": "code",
   "execution_count": 4,
   "metadata": {},
   "outputs": [],
   "source": [
    "# The Monte Carlo algorithm \n",
    "\n",
    "def random_trial_move(pose):   \n",
    "    \n",
    "    res = rd.randint(1, pose.total_residue())   # Return random integer in range (1, total number \n",
    "                                                # of residues in the pose), including both end points\n",
    "    \n",
    "# Perturb either the φ or ψ angles by a random number chosen from a Gaussian distribution with a\n",
    "# standard deviation of 25°: \n",
    "# pose.phi(res)/pose.psi(res) returns the φ/ψ angles (in degrees) of the res residue in the pose;\n",
    "# pose.set_phi(res, degree)/pose.set_psi(res, degree) sets the φ/ψ angles of the res residue in the pose to degree.\n",
    "    \n",
    "    new_phi = rd.gauss(pose.phi(res), 25)\n",
    "    pose.set_phi(res, new_phi)\n",
    "    new_psi = rd.gauss(pose.psi(res), 25)\n",
    "    pose.set_psi(res, new_psi)\n",
    "    return pose\n",
    "\n",
    "        \n",
    "# The Metropolis criterion\n",
    "\n",
    "def metropolis(dE, kT = 1):   # Rosetta Energy Unit (REU)\n",
    "    if dE >= 0 :\n",
    "        p = np.exp(-dE/kT)\n",
    "        if rd.uniform(0, 1) > p:\n",
    "            print (\"Accept\")\n",
    "        else:\n",
    "            print (\"Reject\")\n",
    "    else:\n",
    "        p = 1\n",
    "        print (\"Accept\")\n",
    "    return p"
   ]
  },
  {
   "cell_type": "markdown",
   "metadata": {},
   "source": [
    "Сначала аминокислотные остатки из последовательности белка выстраивают в ряд так, чтобы получилась ровная цепочка. В таком состоянии одно и тоже конформационное преобразование (одинаковый градус поворота торсионного угла) различных остатков будут приниматься с равной вероятностью. "
   ]
  },
  {
   "cell_type": "code",
   "execution_count": 60,
   "metadata": {},
   "outputs": [
    {
     "name": "stdout",
     "output_type": "stream",
     "text": [
      "The file 1BXY.pdb already exists; this file will be overwritten.\n",
      "PDB 1BXY successfully loaded from the RCSB into 1BXY.pdb.\n",
      "if the file 1BXY.clean.pdb already exists, it will be overwritten\n",
      "PDB 1BXY.pdb successfully cleaned, non-ATOM lines removed\n",
      "clean data written to 1BXY.clean.pdb\n",
      "core.import_pose.import_pose: File '1BXY.clean.pdb' automatically determined to be of type PDB\n",
      "core.conformation.Conformation: [ WARNING ] missing heavyatom:  OXT on residue GLU:CtermProteinFull 60\n",
      "core.conformation.Conformation: [ WARNING ] missing heavyatom:  OXT on residue GLU:CtermProteinFull 120\n",
      "The file 1BL0.pdb already exists; this file will be overwritten.\n",
      "PDB 1BL0 successfully loaded from the RCSB into 1BL0.pdb.\n",
      "if the file 1BL0.clean.pdb already exists, it will be overwritten\n",
      "PDB 1BL0.pdb successfully cleaned, non-ATOM lines removed\n",
      "clean data written to 1BL0.clean.pdb\n",
      "core.import_pose.import_pose: File '1BL0.clean.pdb' automatically determined to be of type PDB\n",
      "core.conformation.Conformation: [ WARNING ] missing heavyatom:  OXT on residue LEU:CtermProteinFull 164\n"
     ]
    }
   ],
   "source": [
    "native_pose_1bxy = pose_from_rcsb(\"1bxy\")   # A crystal structure of ribosomal protein L30 from the \n",
    "                                            # extreme thermophilic bacterium Thermus thermophilus \n",
    "    \n",
    "native_pose_1bl0 = pose_from_rcsb(\"1bl0\")   # A crystal structure for a member of the AraC prokaryotic \n",
    "                                            # transcriptional activator family, MarA, in complex with its \n",
    "                                            # cognate DNA-binding site "
   ]
  },
  {
   "cell_type": "code",
   "execution_count": 5,
   "metadata": {},
   "outputs": [
    {
     "name": "stdout",
     "output_type": "stream",
     "text": [
      "1       9       17      25      33      41      49      57      65      73      \n",
      "MPRLKVKLVKSPIGYPKDQKAALKALGLRRLQQERVLEDTPAIRGNVEKVAHLVRVEVVEMPRLKVKLVKSPIGYPKDQK\n",
      "LLEEEEEELLLLLLLLHHHHHHHHHHLLLLLLLEEEEELLHHHHHHHHHHHHHEEEEEELLLEEEEEELLLLLLLLHHHH\n",
      "\n",
      "81      89      97      105     113     121     129     137     145     153     \n",
      "AALKALGLRRLQQERVLEDTPAIRGNVEKVAHLVRVEVVE\n",
      "HHHHHHLLLLLLLEEEELLLHHHHHHHHHHHHHEEEEEEL\n",
      "\n"
     ]
    },
    {
     "data": {
      "application/vnd.jupyter.widget-view+json": {
       "model_id": "00afe23107ac4dde938d9d7f9a5f6fba",
       "version_major": 2,
       "version_minor": 0
      },
      "text/plain": [
       "NGLWidget()"
      ]
     },
     "metadata": {},
     "output_type": "display_data"
    }
   ],
   "source": [
    "# DSSP predicted secondary structure\n",
    "get_secstruct(native_pose_1bxy)\n",
    "\n",
    "view = ngl.show_rosetta(native_pose_1bxy)\n",
    "view.update_cartoon(select='protein', color='sstruc')\n",
    "view"
   ]
  },
  {
   "cell_type": "code",
   "execution_count": 23,
   "metadata": {},
   "outputs": [
    {
     "name": "stdout",
     "output_type": "stream",
     "text": [
      "1       9       17      25      33      41      49      57      65      73      \n",
      "MPRLKVKLVKSPIGYPKDQKAALKALGLRRLQQERVLEDTPAIRGNVEKVAHLVRVEVVE\n",
      "LLLLLLLLLLLLLLLLLLLLLLLLLLLLLLLLLLLLLLLLLLLLLLLLLLLLLLLLLLLL\n",
      "\n"
     ]
    },
    {
     "data": {
      "application/vnd.jupyter.widget-view+json": {
       "model_id": "6f080b9bcc7145c58302ef293b4b64d5",
       "version_major": 2,
       "version_minor": 0
      },
      "text/plain": [
       "NGLWidget()"
      ]
     },
     "metadata": {},
     "output_type": "display_data"
    }
   ],
   "source": [
    "chain_1 = native_pose_1bxy.chain_sequence(1)   # Get sequence of chain \"A\"\n",
    "linear_seq_1 = pose_from_sequence(chain_1)\n",
    "\n",
    "get_secstruct(linear_seq_1)\n",
    "\n",
    "view = ngl.show_rosetta(linear_seq_1)\n",
    "view.add_ball_and_stick()\n",
    "view\n",
    "view "
   ]
  },
  {
   "cell_type": "code",
   "execution_count": 89,
   "metadata": {},
   "outputs": [
    {
     "name": "stdout",
     "output_type": "stream",
     "text": [
      "1       9       17      25      33      41      49      57      65      73      \n",
      "ggggatttagcaaaacgtggcatcccgatgccacgttttgctaaatccDAITIHSILDWIEDNLESPLSLEKVSERSGYS\n",
      "LLLLLLLLLLLLLLLLLLLLLLLLLLLLLLLLLLLLLLLLLLLLLLLLLHHHHHHHHHHHHLLLLLLLLLHHHHHHLLLL\n",
      "\n",
      "81      89      97      105     113     121     129     137     145     153     \n",
      "KWHLQRMFKKETGHSLGQYIRSRKMTEIAQKLKESNEPILYLAERYGFESQQTLTRTFKNYFDVPPHKYRMTNMQGESRF\n",
      "HHHHHHHHHHHHLLLHHHHHHHHHHHHHHHHHHHLLLLHHHHHHHHLLLLHHHHHHHHHHHHLLLHHHHHLLLLLLLLLL\n",
      "\n",
      "161     169     177     185     193     201     209     217     225     233     \n",
      "LHPL\n",
      "LLLL\n",
      "\n"
     ]
    },
    {
     "data": {
      "application/vnd.jupyter.widget-view+json": {
       "model_id": "6827e4a6da1d4d0ea684c6395cfa14e2",
       "version_major": 2,
       "version_minor": 0
      },
      "text/plain": [
       "NGLWidget()"
      ]
     },
     "metadata": {},
     "output_type": "display_data"
    }
   ],
   "source": [
    "get_secstruct(native_pose_1bl0)\n",
    "\n",
    "view = ngl.show_rosetta(native_pose_1bl0)\n",
    "view.update_cartoon(select='protein', color='sstruc')\n",
    "view"
   ]
  },
  {
   "cell_type": "code",
   "execution_count": 110,
   "metadata": {},
   "outputs": [
    {
     "name": "stdout",
     "output_type": "stream",
     "text": [
      "1       9       17      25      33      41      49      57      65      73      \n",
      "DAITIHSILDWIEDNLESPLSLEKVSERSGYSKWHLQRMFKKETGHSLGQYIRSRKMTEIAQKLKESNEPILYLAERYGF\n",
      "LLLLLLLLLLLLLLLLLLLLLLLLLLLLLLLLLLLLLLLLLLLLLLLLLLLLLLLLLLLLLLLLLLLLLLLLLLLLLLLL\n",
      "\n",
      "81      89      97      105     113     121     129     137     145     153     \n",
      "ESQQTLTRTFKNYFDVPPHKYRMTNMQGESRFLHPL\n",
      "LLLLLLLLLLLLLLLLLLLLLLLLLLLLLLLLLLLL\n",
      "\n"
     ]
    },
    {
     "data": {
      "application/vnd.jupyter.widget-view+json": {
       "model_id": "4455522a5d8348eaaa0d3492c536809f",
       "version_major": 2,
       "version_minor": 0
      },
      "text/plain": [
       "NGLWidget()"
      ]
     },
     "metadata": {},
     "output_type": "display_data"
    }
   ],
   "source": [
    "chain_2 = native_pose_1bl0.chain_sequence(3)   # Get sequence of chain \"A\"\n",
    "linear_seq_2 = pose_from_sequence(chain_2)\n",
    "\n",
    "get_secstruct(linear_seq_2)\n",
    "\n",
    "view = ngl.show_rosetta(linear_seq_2)\n",
    "view.add_ball_and_stick()\n",
    "view\n",
    "view "
   ]
  },
  {
   "cell_type": "markdown",
   "metadata": {},
   "source": [
    "Алгоритмы Rosetta базируются на идее о том, что оптимальную конформацию целой молекулы определяют не локальные предпочтения вторичной структуры, а глобальное объединение различных элементов вторичной структуры посредствам нековалентных взаимодействий. Исходя из этого, стандартный протокол фолдинга в Rosetta можно разделить на несколько этапов:\n",
    "\n",
    "<img src=\"files/images/general_workflow.png\">"
   ]
  },
  {
   "cell_type": "markdown",
   "metadata": {},
   "source": [
    "До начала моделирования необходимо собрать библиотеку фрагментов, которые дальше будут использоваться в процессе моделирования. Фрагментами являются короткие участки структуры (пептидные фрагменты обычно длиной 3 и 9 остатков, но также используются куски размером 5 и 7 аминокислот). Их получают из соответствующих по последовательности участков гомологичных белков. В самом начале берется последовательность белка, фолдинг которого нужно предсказать. Проводится множественное выравнивани алгоритомом PSI-BLAST. Затем выравненные участки \"разрезаются\" в случайном месте последовательности на куски, соответствующие по длине будущим фрагментам (т. е. по 3, 5, 7 или 9 остатков). К примеру, при делении на куски по 9, \"разрезание\" может быть сначала на 1, потом на 26, а затем на 12 позициях. Соответствующим кускам выравнивания в банке данных трёхмерных структур ищутся структурные аналоги (фрагменты с известными торсионными углами) и создаются бибиотеки фрагментов по количеству остатков.   "
   ]
  },
  {
   "cell_type": "code",
   "execution_count": 9,
   "metadata": {},
   "outputs": [],
   "source": [
    "# Fragments\n",
    "# \n",
    "# init('-in::file::fasta 1bxy.fasta -frags::frag_sizes 3 9 -frags::n_candidates 1000 -frags::n_frags 1000 -out::file::frag_prefix L30_frag1000.1000')\n",
    "# mover = pyrosetta.rosetta.protocols.frag_picker.FragmentPicker()\n",
    "# mover.parse_command_line()\n",
    "# mover.read_vall('/home/domain/diankin/rosetta3.8/rosetta_src_2017.08.59291_bundle/tools/fragment_tools/vall.jul19.2011.gz')\n",
    "# mover.bounded_protocol()\n",
    "# mover.save_fragments()"
   ]
  },
  {
   "cell_type": "markdown",
   "metadata": {},
   "source": [
    "Далее эти фрагменты будут вставляться в моделируемую структуру на соответствующие места по последовательности. Таким образом происходит изменение торсинных углов в молекуле: берется какой-либо случайный кусок в развернутой по линейке структуре, в этот кусок вставляются торсионные углы фрагмента из библиотеки, соответствующего по последовательности данному участку. Внесенное изменение считается score-функцией и принимается или отвергается по критерию Метрополиса. Вставляемые участки сортируются по длине: от максимальной к минимальной. Мы использовали фрагметы длины 9, 5 и 3, следовательно, изменения происходили сначала на учатках в 9 аминокислотных остатков, потом в 5 и в конце — в 3."
   ]
  },
  {
   "cell_type": "markdown",
   "metadata": {},
   "source": [
    "Для предварительной укладки главной цепи можно повращать торсионные углы произвольным образом посредством объектов класса Mover. Это необязательно, но позволяет сократить количество циклов (итераций) вставления фрагментов на дальнейших этапах алгоритма фолдинга. Мы вносили изменения в $ \\psi $ и $ \\phi $ углы с помощью объектов Small и Shear: первый вносит произвольное вращаение в оба угла; второй изменяет только $ \\psi $, а  $ \\phi $ присваивает такое же по модулю значение, но с противоположным знаком. "
   ]
  },
  {
   "cell_type": "code",
   "execution_count": 38,
   "metadata": {},
   "outputs": [],
   "source": [
    "def folding_cen(pose, loop, nsmall_moves, nshear_moves, output_file, kT = 1):\n",
    "    \n",
    "    sf_cen =  ScoreFunction()\n",
    "    \n",
    "    sf_cen.set_weight(hbond_bb_sc, 1.0)\n",
    "    sf_cen.set_weight(hbond_sc, 1.0)\n",
    "    sf_cen.set_weight(hbond_sr_bb, 1.0)\n",
    "    sf_cen.set_weight(hbond_lr_bb, 1.0)\n",
    "    \n",
    "    \n",
    "    # MonteCarlo object performs all the bookkeeping you need for creating a Monte Carlo search (decide whether to \n",
    "    # accept or reject a trial conformation, and it keeps track of the lowest-energy conformation and other statistics \n",
    "    # about the  search\n",
    "    \n",
    "    mc_cen = MonteCarlo(pose, sf_cen, kT)\n",
    "    \n",
    "    movemap = MoveMap()\n",
    "    movemap.set_bb(True)\n",
    "    \n",
    "    small_mover = SmallMover(movemap, kT, nsmall_moves)\n",
    "    shear_mover = ShearMover(movemap, kT, nshear_moves)\n",
    "    \n",
    "    # small_mover.angle_max(\"H\", magnitude)\n",
    "    # small_mover.angle_max(\"E\", magnitude)\n",
    "    # small_mover.angle_max(\"L\", magnitude)\n",
    "    # shear_mover.angle_max(\"H\", magnitude)\n",
    "    # shear_mover.angle_max(\"E\", magnitude)\n",
    "    # shear_mover.angle_max(\"L\", magnitude)\n",
    "    \n",
    "    \n",
    "    # The MinMover carries out a gradient-based minimization to find the nearest local minimum in the energy function, \n",
    "    # such as that used in one step of the Monte-Carlo-plus-Minimization algorithm\n",
    "    \n",
    "    min_mover_cen = MinMover()\n",
    "    min_mover_cen.movemap(movemap)\n",
    "    min_mover_cen.score_function(sf_cen)\n",
    "    \n",
    "    # A SequenceMover is another combination Mover, which applies several movers in succession (builds up \n",
    "    # complex routines)\n",
    "    \n",
    "    seq_mover = SequenceMover()\n",
    "    seq_mover.add_mover(small_mover)\n",
    "    seq_mover.add_mover(shear_mover)\n",
    "    seq_mover.add_mover(min_mover_cen)\n",
    "    \n",
    "    for i in range(1, loop):\n",
    "        seq_mover.apply(pose)\n",
    "        mc_cen.boltzmann(pose)\n",
    "        \n",
    "        if i % 1000 == 0:\n",
    "            mc_cen.recover_low(pose)\n",
    "        \n",
    "    mc_cen.recover_low(pose)\n",
    "    pose.dump_pdb(output_file)"
   ]
  },
  {
   "cell_type": "code",
   "execution_count": 39,
   "metadata": {},
   "outputs": [],
   "source": [
    "# loop = 100000\n",
    "# kT = 3\n",
    "# nsmall_moves = 5\n",
    "# nshear_moves = 5\n",
    "# output_file_1bxy = \"1bxy_cen.pdb\"\n",
    " \n",
    "# folding_cen(linear_seq, loop, nsmall_moves, nshear_moves, output_file_1bxy, kT)"
   ]
  },
  {
   "cell_type": "markdown",
   "metadata": {},
   "source": [
    "# L30\n",
    "\n",
    "<img src=\"files/images/1bxy_cen.png\" width=\"600\"> \n",
    "\n",
    "# MarA\n",
    "\n",
    "<img src=\"files/images/1bl0_cen.png\">"
   ]
  },
  {
   "cell_type": "code",
   "execution_count": 40,
   "metadata": {},
   "outputs": [],
   "source": [
    "def folding_frag(pose, new_pose, fold_filename, frags, scorefxn, nstruct, nrepeat, nmove3, nmove9, nmove5, nmove7, kT = 1, omega = \"True\"): #, nshear_moves = 5, nsmall_moves = 5):  \n",
    "    \n",
    "    sf = ScoreFunction()\n",
    "    \n",
    "    cen = SwitchResidueTypeSetMover(\"centroid\")\n",
    "    fa = SwitchResidueTypeSetMover(\"fa_standard\")\n",
    "    \n",
    "    if scorefxn == \"FA\":\n",
    "        sf = create_score_function('score12')   # 'beta_peptide' or 'beta_nov16' for proteins with \n",
    "          \n",
    "    if scorefxn == \"CEN\":\n",
    "        sf = create_score_function('score3')\n",
    "        cen.apply(pose)\n",
    "    \n",
    "    jd = PyJobDistributor(fold_filename, nstruct, sf)\n",
    "        \n",
    "    # Load the set of fragments (n-mers, where n = 3, 5, 9) from the fragment file to replace of the torsion \n",
    "    # angles for a set of consecutive residues with new torsion angles pulled at random from a fragment library file\n",
    "    \n",
    "    if nmove3:\n",
    "        fragset3 = ConstantLengthFragSet(3)\n",
    "        fragset3.read_fragment_file(frags + \".3mers\")\n",
    "    else:\n",
    "        pass\n",
    "    \n",
    "    if nmove5:\n",
    "        fragset5 = ConstantLengthFragSet(5)\n",
    "        fragset5.read_fragment_file(frags + \".5mers\")\n",
    "    else:\n",
    "        pass\n",
    "    \n",
    "    if nmove7:\n",
    "        fragset7 = ConstantLengthFragSet(7)\n",
    "        fragset7.read_fragment_file(frags + \".7mers\")\n",
    "    else:\n",
    "        pass\n",
    "    \n",
    "    if nmove9:\n",
    "        fragset9 = ConstantLengthFragSet(9)\n",
    "        fragset9.read_fragment_file(frags + \".9mers\")\n",
    "    else:\n",
    "        pass\n",
    "         \n",
    "    movemap = MoveMap()\n",
    "    movemap.set_bb(True)\n",
    "     \n",
    "    # FragmentMover uses the above fragment set and a MoveMap object as options to specify which degrees of freedom \n",
    "    # are allowed to change in the pose when the mover is applied \n",
    "    \n",
    "    if not nmove3 == 0:\n",
    "        mover_mer3 = ClassicFragmentMover(fragset3, movemap) # A FragmentMover that applies uniform sampling of fragments\n",
    " \n",
    "    if not nmove5 == 0:    \n",
    "        mover_mer5 = ClassicFragmentMover(fragset5, movemap) \n",
    "        \n",
    "    if not nmove7 == 0:\n",
    "        mover_mer7 = ClassicFragmentMover(fragset7, movemap)\n",
    "        \n",
    "    if not nmove9 == 0:\n",
    "        mover_mer9 = ClassicFragmentMover(fragset9, movemap)\n",
    "    \n",
    "    if omega == \"True\":\n",
    "        for res in range(1, pose.total_residue() + 1):\n",
    "            pose.set_omega(res, 180)\n",
    "           # pose.set_phi(res, -140)\n",
    "           # pose.set_psi(res, 130)\n",
    "    \n",
    "    # MonteCarlo object performs all the bookkeeping you need for creating a Monte Carlo search (decide whether to \n",
    "    # accept or reject a trial conformation, and it keeps track of the lowest-energy conformation and other statistics \n",
    "    # about the  search\n",
    "    \n",
    "    mc = MonteCarlo(pose, sf, kT)\n",
    "    mc.reset(pose)\n",
    "    \n",
    "    # The MinMover carries out a gradient-based minimization to find the nearest local minimum in the energy function, \n",
    "    # such as that used in one step of the Monte-Carlo-plus-Minimization algorithm\n",
    "    \n",
    "    min_mover_cen = MinMover()\n",
    "    min_mover_cen.movemap(movemap)\n",
    "    min_mover_cen.score_function(sf)\n",
    "    min_mover_cen.min_type(\"dfpmin\")\n",
    "    \n",
    "    # A SequenceMover is another combination Mover, which applies several movers in succession (builds up \n",
    "    # complex routines)\n",
    "    \n",
    "    seq_mover = SequenceMover()\n",
    "    \n",
    "    if nmove9:\n",
    "        for i in range(nmove9):\n",
    "            seq_mover.add_mover(mover_mer9)\n",
    "        seq_mover.add_mover(min_mover_cen)\n",
    "    else:\n",
    "        pass\n",
    "    \n",
    "    if nmove7:  \n",
    "        for i in range(nmove7):\n",
    "            seq_mover.add_mover(mover_mer7)\n",
    "        seq_mover.add_mover(min_mover_cen)\n",
    "    else:\n",
    "        pass\n",
    "    \n",
    "    if nmove5:\n",
    "        for i in range(nmove5):\n",
    "            seq_mover.add_mover(mover_mer5)\n",
    "        seq_mover.add_mover(min_mover_cen)\n",
    "    else:\n",
    "        pass\n",
    "    \n",
    "    if nmove3:      \n",
    "        for i in range(nmove3):\n",
    "            seq_mover.add_mover(mover_mer3)\n",
    "        seq_mover.add_mover(min_mover_cen)\n",
    "    else:\n",
    "        pass\n",
    "    \n",
    "    # A TrialMover combines a mover with a MonteCarlo object. Each time a TrialMoveris called, it performs a trial \n",
    "    # move and tests that move’s acceptance with the MonteCarloobject\n",
    "    \n",
    "    trial_mover = TrialMover(seq_mover, mc)\n",
    "    \n",
    "    # A RepeatMover will apply its input Mover n times each time it is applied:\n",
    "        \n",
    "    repeat_mover = RepeatMover(trial_mover, nrepeat)\n",
    "\n",
    "    if scorefxn == \"CEN\":\n",
    "    \n",
    "        while not jd.job_complete:\n",
    "            new_pose.assign(pose)\n",
    "            mc.reset(new_pose)\n",
    "            repeat_mover.apply(new_pose)\n",
    "            mc.boltzmann(new_pose)\n",
    "            mc.recover_low(new_pose)\n",
    "            fa.apply(new_pose)            \n",
    "            jd.output_decoy(new_pose)\n",
    "            \n",
    "    if scorefxn == \"FA\":    \n",
    "        \n",
    "        while not jd.job_complete:\n",
    "            new_pose.assign(pose)\n",
    "            mc.reset(new_pose)\n",
    "            repeat_mover.apply(new_pose)            \n",
    "            \n",
    "            mc.boltzmann(new_pose)\n",
    "            mc.recover_low(new_pose)\n",
    "            \n",
    "            jd.output_decoy(new_pose)\n",
    "        "
   ]
  },
  {
   "cell_type": "code",
   "execution_count": null,
   "metadata": {},
   "outputs": [],
   "source": [
    "# pdb_pose = pose_from_pdb(\"1bxy_cen.pdb\")\n",
    "\n",
    "# new_pose = Pose()\n",
    "# fold_filename = \"1bxy_frag\"\n",
    "# frags = \"L30_frag_1000.1000\"\n",
    "# scorefxn = \"CEN\"\n",
    "# nstruct = 20\n",
    "# nrepeat = 5000\n",
    "# nmove3 = 20\n",
    "# nmove9 = 5\n",
    "# nmove5 = 10\n",
    "# nmove7 = 0"
   ]
  },
  {
   "cell_type": "markdown",
   "metadata": {},
   "source": [
    "# L30\n",
    "\n",
    "<img src=\"files/images/1bxy_frag.png\" width=\"600\">\n",
    "\n",
    "# MarA\n",
    "\n",
    "<img src=\"files/images/1bl0_frag.png\"> "
   ]
  },
  {
   "cell_type": "markdown",
   "metadata": {},
   "source": [
    "На начальных этапах моделирования химическая структура аминокислот временно упрощается для сокращения времени расчетов (меньше взаимодействий для рассмотрения) при грубой \"сборке\" хода главной цепи: теперь радикал каждого остатка представляется как одна частица, прикрепленная к $ C\\alpha $-атому. Такое представление называется **low-resolution** или **centroid (CEN)**. В результате, за относительно короткое время широкая область конформационного пространства будет исследована.\n",
    "<img src=\"files/images/cen_small.png\">\n",
    "<img src=\"files/images/cen_big.png\">"
   ]
  },
  {
   "cell_type": "code",
   "execution_count": 33,
   "metadata": {},
   "outputs": [],
   "source": [
    "cen = SwitchResidueTypeSetMover(\"centroid\")\n",
    "fa = SwitchResidueTypeSetMover(\"fa_standard\")"
   ]
  },
  {
   "cell_type": "code",
   "execution_count": 34,
   "metadata": {},
   "outputs": [
    {
     "name": "stdout",
     "output_type": "stream",
     "text": [
      "Residue 1: MET:NtermProteinFull (MET, M):\n",
      "Base: MET\n",
      " Properties: POLYMER PROTEIN CANONICAL_AA LOWER_TERMINUS HYDROPHOBIC ALIPHATIC ALPHA_AA L_AA\n",
      " Variant types: LOWER_TERMINUS_VARIANT\n",
      " Main-chain atoms:  N    CA   C  \n",
      " Backbone atoms:    N    CA   C    O    H  \n",
      " Side-chain atoms:  CB   CEN\n",
      "Atom Coordinates:\n",
      "   N  : 39.089, 8.414, 17.033\n",
      "   CA : 38.591, 8.543, 15.66\n",
      "   C  : 37.521, 7.488, 15.281\n",
      "   O  : 37.121, 7.344, 14.135\n",
      "   CB : 39.7677, 8.46053, 14.6896\n",
      "   CEN: 40.7528, 9.42857, 13.6076\n",
      "   H  : 40.0609, 8.24709, 17.1987\n",
      "Mirrored relative to coordinates in ResidueType: FALSE\n",
      "\n"
     ]
    }
   ],
   "source": [
    "# Centroid\n",
    "\n",
    "cen.apply(native_pose_1bxy)\n",
    "print(native_pose_1bxy.residue(1))"
   ]
  },
  {
   "cell_type": "code",
   "execution_count": 35,
   "metadata": {},
   "outputs": [
    {
     "name": "stdout",
     "output_type": "stream",
     "text": [
      "Residue 1: MET:NtermProteinFull (MET, M):\n",
      "Base: MET\n",
      " Properties: POLYMER PROTEIN CANONICAL_AA LOWER_TERMINUS SC_ORBITALS HYDROPHOBIC ALIPHATIC METALBINDING ALPHA_AA L_AA\n",
      " Variant types: LOWER_TERMINUS_VARIANT\n",
      " Main-chain atoms:  N    CA   C  \n",
      " Backbone atoms:    N    CA   C    O   1H   2H   3H    HA \n",
      " Side-chain atoms:  CB   CG   SD   CE  1HB  2HB  1HG  2HG  1HE  2HE  3HE \n",
      "Atom Coordinates:\n",
      "   N  : 39.089, 8.414, 17.033\n",
      "   CA : 38.591, 8.543, 15.66\n",
      "   C  : 37.521, 7.488, 15.281\n",
      "   O  : 37.121, 7.344, 14.135\n",
      "   CB : 39.7684, 8.46636, 14.6901\n",
      "   CG : 41.1188, 8.2409, 15.3555\n",
      "   SD : 40.9973, 8.11762, 17.151\n",
      "   CE : 39.2347, 8.32652, 17.3859\n",
      "  1H  : 39.7725, 9.12262, 17.2081\n",
      "  2H  : 38.3293, 8.51842, 17.6748\n",
      "  3H  : 39.5053, 7.51285, 17.1538\n",
      "   HA : 38.1039, 9.5126, 15.5585\n",
      "  1HB : 39.6049, 7.65417, 13.9833\n",
      "  2HB : 39.8287, 9.39231, 14.1167\n",
      "  1HG : 41.5622, 7.32094, 14.9759\n",
      "  2HG : 41.7869, 9.06666, 15.1117\n",
      "  1HE : 39.0006, 8.27431, 18.4495\n",
      "  2HE : 38.9274, 9.29663, 16.993\n",
      "  3HE : 38.7008, 7.53572, 16.8578\n",
      "Mirrored relative to coordinates in ResidueType: FALSE\n",
      "\n"
     ]
    }
   ],
   "source": [
    "# Full-atom\n",
    "\n",
    "fa.apply(native_pose_1bxy)\n",
    "print(native_pose_1bxy.residue(1))"
   ]
  },
  {
   "cell_type": "markdown",
   "metadata": {},
   "source": [
    "Дальнейшее уточнение структуры проводится уже в полноатомном представлении модели (**high-resolution** или **full-atom (FA)**), т. е. моделируется положение абсолютно всех атомов в аминокислотах без дополнительных ограничений на радикал. В терминологии Rosetta этап FA называется **refinement**. Это завершающая стадия моделирования фолдинга."
   ]
  },
  {
   "cell_type": "code",
   "execution_count": 10,
   "metadata": {},
   "outputs": [],
   "source": [
    "def folding_fa(pose, new_pose, nstruct, nsmall_moves, nshear_moves, magnitude, nrepeat, fold_filename, kT = 1, dkT = 0.5):\n",
    "    \n",
    "    init_pose = Pose()\n",
    "    init_pose.assign(pose)\n",
    "    \n",
    "    end_res = pose.total_residue()\n",
    "    \n",
    "    sf_fa =  ScoreFunction()\n",
    "    sf_fa = create_score_function('/home/domain/eva.smorodina/Projects/Rosetta/weights/beta_peptide_soft_rep_design') #get_fa_scorefxn() \n",
    "\n",
    "    jd = PyJobDistributor(fold_filename, nstruct, sf_fa)\n",
    "       \n",
    "    movemap = MoveMap()\n",
    "    movemap.set_bb(True)\n",
    "    movemap.set_chi(True)\n",
    "    \n",
    "    # The MinMover carries out a gradient-based minimization to find the nearest local minimum in the energy function, \n",
    "    # such as that used in one step of the Monte-Carlo-plus-Minimization algorithm\n",
    "    \n",
    "    min_mover_fa = MinMover()\n",
    "    min_mover_fa.movemap(movemap)\n",
    "    min_mover_fa.score_function(sf_fa)\n",
    "    min_mover_fa.min_type(\"dfpmin\")\n",
    "    \n",
    "    task_pack = standard_packer_task(pose)\n",
    "    task_pack.restrict_to_repacking()\n",
    "    task_pack.or_include_current(True)\n",
    "    pack_mover = PackRotamersMover(sf_fa, task_pack)      \n",
    "    \n",
    "\n",
    "    while not jd.job_complete:  \n",
    "        for k in reversed(np.arange(0.1, kT, dkT)):\n",
    "            \n",
    "            # MonteCarlo object performs all the bookkeeping you need for creating a Monte Carlo search (decide whether to \n",
    "            # accept or reject a trial conformation, and it keeps track of the lowest-energy conformation and other statistics \n",
    "            # about the  search\n",
    "            \n",
    "            mc_fa = MonteCarlo(pose, sf_fa, k)\n",
    "            \n",
    "            small_mover = SmallMover(movemap, k, nsmall_moves)\n",
    "            shear_mover = ShearMover(movemap, k, nshear_moves)\n",
    "            \n",
    "            for i in reversed(range(1, magnitude)):\n",
    "                small_mover.angle_max(\"H\", i)\n",
    "                small_mover.angle_max(\"E\", i)\n",
    "                small_mover.angle_max(\"L\", i)\n",
    "                shear_mover.angle_max(\"H\", i)\n",
    "                shear_mover.angle_max(\"E\", i)\n",
    "                shear_mover.angle_max(\"L\", i)\n",
    "        \n",
    "                # A SequenceMover is another combination Mover, which applies several movers in succession (builds up \n",
    "                # complex routines)\n",
    "                \n",
    "                seq_mover = SequenceMover()\n",
    "                seq_mover.add_mover(small_mover)\n",
    "                seq_mover.add_mover(shear_mover)\n",
    "                seq_mover.add_mover(min_mover_fa)\n",
    "                seq_mover.add_mover(pack_mover)\n",
    "                \n",
    "                # A TrialMover combines a mover with a MonteCarlo object. Each time a TrialMoveris called, it performs a trial \n",
    "                # move and tests that move’s acceptance with the MonteCarloobject\n",
    "                \n",
    "                trial_mover = TrialMover(seq_mover, mc_fa)\n",
    "                \n",
    "                # A RepeatMover will apply its input Mover n times each time it is applied:\n",
    "                    \n",
    "                repeat_mover = RepeatMover(trial_mover, nrepeat)\n",
    "\n",
    "                mc_fa.reset(init_pose)\n",
    "                new_pose.assign(pose)\n",
    "                mc_fa.reset(new_pose)\n",
    "                mc_fa.boltzmann(new_pose)\n",
    "                repeat_mover.apply(new_pose)\n",
    "                mc_fa.recover_low(new_pose)\n",
    "        \n",
    "                jd.output_decoy(new_pose)"
   ]
  },
  {
   "cell_type": "code",
   "execution_count": null,
   "metadata": {},
   "outputs": [],
   "source": [
    "# pose = pose_from_pdb(\"1bxy_frag_5.pdb\")\n",
    "# new_pose = Pose()\n",
    "# \n",
    "# nstruct = 10\n",
    "# nsmall_moves = 8\n",
    "# nshear_moves = 5\n",
    "# magnitude = 5\n",
    "# nrepeat = 1000\n",
    "# fold_filename = \"1bxy_ref_2\"\n",
    "# \n",
    "# kT = 0.4\n",
    "# dkT = 0.2"
   ]
  },
  {
   "cell_type": "markdown",
   "metadata": {},
   "source": [
    "# L30\n",
    "\n",
    "<img src=\"files/images/1bxy_ref1.png\" width=\"600\"> \n",
    "<img src=\"files/images/1bxy_ref2.png\" width=\"600\"> \n",
    "<img src=\"files/images/1bxy_ref3.png\" width=\"600\">"
   ]
  },
  {
   "cell_type": "markdown",
   "metadata": {},
   "source": [
    "# MarA\n",
    "\n",
    "<img src=\"files/images/1bl0_ref1.png\" width=\"800\">\n",
    "<img src=\"files/images/1bl0_ref2.png\" width=\"650\">\n",
    "<img src=\"files/images/1bl0_ref3.png\" width=\"650\">\n",
    "<img src=\"files/images/1bl0_ref4.png\" width=\"800\">"
   ]
  },
  {
   "cell_type": "markdown",
   "metadata": {},
   "source": [
    "Если объединить все этапы алгоритма в один скрипт, получится классический протокол фолдинга."
   ]
  },
  {
   "cell_type": "markdown",
   "metadata": {},
   "source": [
    "# Анализ данных"
   ]
  },
  {
   "cell_type": "markdown",
   "metadata": {},
   "source": [
    "**RMSD** (root-mean-square deviation) — мера отклонения смоделированной структуры от экспериментальной; рассчитывается как квадратный корень из среднего арифметического всех расстояний между соответствующими атомами (обычно только атомами остова) в вышеупомянутых структурах. Для каждой полученной структуры мы посчитали RMSD и score:\n",
    "\n",
    "$ \\mathrm {RMSD} ={\\sqrt {{\\frac {1}{N}}\\sum _{i=1}^{N}\\delta _{i}^{2}}} $\n",
    "\n",
    "$ \\begin{aligned}\\mathrm {RMSD} (\\mathrm {v} ,\\mathrm {w} )={\\sqrt {{\\frac {1}{n}}\\sum _{i=1}^{n}\\|v_{i}-w_{i}\\|^{2}}}={\\sqrt {{\\frac {1}{n}}\\sum _{i=1}^{n}(({v_{i}}_{x}-{w_{i}}_{x})^{2}+({v_{i}}_{y}-{w_{i}}_{y})^{2}+({v_{i}}_{z}-{w_{i}}_{z})^{2}}})\\end{aligned} $"
   ]
  },
  {
   "cell_type": "markdown",
   "metadata": {},
   "source": [
    "Для каждой полученной структуры в соответствии с этими данными были построены графики отклонений в значениях между моделями и нативными структурами. Эта процедура была проведена для белков 1bxy и 1bl0, и были получены следующие графики:\n",
    "\n",
    ">    **1**: выборка из 50 смоделированных структур белка 1bxy   \n",
    "\n",
    ">    **2**: выборка из 50 смоделированных структур белка 1bl0   \n",
    "\n",
    ">    **3**: выборка из 100 смоделированных структур белка 1bl0    "
   ]
  },
  {
   "cell_type": "markdown",
   "metadata": {},
   "source": [
    "**1**\n",
    "\n",
    "<img src=\"files/results/plots/df1.png\"> \n",
    "\n",
    "**2**\n",
    "\n",
    "<img src=\"files/results/plots/df2.png\"> \n",
    "\n",
    "**3**\n",
    "\n",
    "<img src=\"files/results/plots/df3.png\"> "
   ]
  },
  {
   "cell_type": "markdown",
   "metadata": {},
   "source": [
    "Анализ данных проводился с помощью следующих функций:"
   ]
  },
  {
   "cell_type": "code",
   "execution_count": 52,
   "metadata": {},
   "outputs": [],
   "source": [
    "def fs(path, name, filename, scorefxn):\n",
    "    \n",
    "    files = [x for x in os.listdir(path) if not x.find(name) == -1]    \n",
    "    pdbfiles = [pdbfile for pdbfile in files if pdbfile.endswith(\".pdb\")]\n",
    "    poses = [pose_from_pdb(path + y) for y in pdbfiles]\n",
    "    \n",
    "    sf = ScoreFunction()\n",
    "    \n",
    "    cen = SwitchResidueTypeSetMover(\"centroid\")\n",
    "    \n",
    "    if scorefxn == \"FA\":\n",
    "        sf = create_score_function('score12') \n",
    "        scores = [sf(p) for p in poses]\n",
    "        minE = sorted(zip(files, scores), key = lambda x: x[1])    \n",
    "        \n",
    "    elif scorefxn == \"CEN\":\n",
    "        sf = create_score_function(\"score3\") \n",
    "        for pose in poses:\n",
    "            cen.apply(pose)\n",
    "        scores = [sf(p) for p in poses]\n",
    "        minE = sorted(zip(files, scores), key = lambda x: x[1])    \n",
    "    \n",
    "    with open(filename, \"w+\") as f:        \n",
    "        for i,j in minE:\n",
    "            f.write(i + \"\\t\" + str(j) + \"\\n\")"
   ]
  },
  {
   "cell_type": "code",
   "execution_count": 48,
   "metadata": {},
   "outputs": [],
   "source": [
    "path = \"files/structures/ref/\"\n",
    "name = \"1bl0_ref_\" \n",
    "filename_cen = \"files/results/cen/1bl0.txt\"\n",
    "filename_fa = \"files/results/fa/1bl0.txt\"\n",
    "scorefxn_cen = \"CEN\"\n",
    "scorefxn_fa = \"FA\""
   ]
  },
  {
   "cell_type": "code",
   "execution_count": 53,
   "metadata": {},
   "outputs": [
    {
     "name": "stdout",
     "output_type": "stream",
     "text": [
      "core.import_pose.import_pose: File 'files/structures/ref/1bl0_ref_14.pdb' automatically determined to be of type PDB\n",
      "core.import_pose.import_pose: File 'files/structures/ref/1bl0_ref_7.pdb' automatically determined to be of type PDB\n",
      "core.import_pose.import_pose: File 'files/structures/ref/1bl0_ref_50.pdb' automatically determined to be of type PDB\n",
      "core.import_pose.import_pose: File 'files/structures/ref/1bl0_ref_12.pdb' automatically determined to be of type PDB\n",
      "core.chemical.GlobalResidueTypeSet: Finished initializing centroid residue type set.  Created 62 residue types\n",
      "core.chemical.GlobalResidueTypeSet: Total time to initialize 0.045085 seconds.\n",
      "core.import_pose.import_pose: File 'files/structures/ref/1bl0_ref_14.pdb' automatically determined to be of type PDB\n",
      "core.import_pose.import_pose: File 'files/structures/ref/1bl0_ref_7.pdb' automatically determined to be of type PDB\n",
      "core.import_pose.import_pose: File 'files/structures/ref/1bl0_ref_50.pdb' automatically determined to be of type PDB\n",
      "core.import_pose.import_pose: File 'files/structures/ref/1bl0_ref_12.pdb' automatically determined to be of type PDB\n",
      "core.pack.dunbrack.RotamerLibrary: shapovalov_lib_fixes_enable option is true.\n",
      "core.pack.dunbrack.RotamerLibrary: shapovalov_lib::shap_dun10_smooth_level of 1( aka lowest_smooth ) got activated.\n",
      "core.pack.dunbrack.RotamerLibrary: Binary rotamer library selected: /home/domain/diankin/progs/PyRosetta4.Release.python36.linux.release-190/pyrosetta/database/rotamer/shapovalov/StpDwn_0-0-0/Dunbrack10.lib.bin\n",
      "core.pack.dunbrack.RotamerLibrary: Using Dunbrack library binary file '/home/domain/diankin/progs/PyRosetta4.Release.python36.linux.release-190/pyrosetta/database/rotamer/shapovalov/StpDwn_0-0-0/Dunbrack10.lib.bin'.\n",
      "core.pack.dunbrack.RotamerLibrary: Dunbrack 2010 library took 0.287453 seconds to load from binary\n"
     ]
    }
   ],
   "source": [
    "fs(path, name, filename_cen, scorefxn_cen)\n",
    "fs(path, name, filename_fa, scorefxn_fa)"
   ]
  },
  {
   "cell_type": "code",
   "execution_count": 54,
   "metadata": {},
   "outputs": [
    {
     "name": "stdout",
     "output_type": "stream",
     "text": [
      "1bl0_ref_12.pdb\t71.8237644221196\n",
      "1bl0_ref_12.pdb\t-181.9406281170206\n",
      "\n",
      "1bl0_ref_7.pdb\t79.33730919402957\n",
      "1bl0_ref_14.pdb\t-172.8272280381724\n",
      "\n",
      "1bl0_ref_50.pdb\t81.10686672176055\n",
      "1bl0_ref_50.pdb\t-171.73713143959787\n",
      "\n",
      "1bl0_ref_14.pdb\t83.74087226895338\n",
      "1bl0_ref_7.pdb\t-170.79831452162415\n",
      "\n"
     ]
    }
   ],
   "source": [
    "with open(filename_cen) as fcen, open(filename_fa) as ffa:\n",
    "    for c, f in zip(fcen, ffa):\n",
    "        print (c + f)"
   ]
  },
  {
   "cell_type": "code",
   "execution_count": 115,
   "metadata": {},
   "outputs": [],
   "source": [
    "dssp_mara = \"LHHHHHHHHHHHHLLLLLLLLLHHHHHHLLLLHHHHHHHHHHHHLLLHHHHHHHHHHHHHHHHHHHLLLLHHHHHHHHLLLLHHHHHHHHHHHHLLLHHHHHLLLLLLLLLLLLLL\"\n",
    "\n",
    "for i, j in zip(range(1, native_pose_1bl0.total_residue() + 1), dssp_mara):\n",
    "    linear_seq_2.set_secstruct(i, j)"
   ]
  },
  {
   "cell_type": "code",
   "execution_count": 118,
   "metadata": {},
   "outputs": [],
   "source": [
    "def rmsd(native_pose, decoy_poses):\n",
    "    pyrosetta.rosetta.core.pose.full_model_info.make_sure_full_model_info_is_setup(native_pose)\n",
    "    rmsds = []\n",
    "    for p in decoy_poses:\n",
    "        pyrosetta.rosetta.core.pose.full_model_info.make_sure_full_model_info_is_setup(p)\n",
    "        rmsds += [pyrosetta.rosetta.protocols.stepwise.modeler.align.superimpose_with_stepwise_aligner(native_pose, p)]\n",
    "    return rmsds"
   ]
  },
  {
   "cell_type": "code",
   "execution_count": 119,
   "metadata": {},
   "outputs": [
    {
     "name": "stdout",
     "output_type": "stream",
     "text": [
      "core.import_pose.import_pose: File 'files/structures/ref/1bl0_ref_14.pdb' automatically determined to be of type PDB\n",
      "core.import_pose.import_pose: File 'files/structures/ref/1bl0_ref_7.pdb' automatically determined to be of type PDB\n",
      "core.import_pose.import_pose: File 'files/structures/ref/1bl0_ref_50.pdb' automatically determined to be of type PDB\n",
      "core.import_pose.import_pose: File 'files/structures/ref/1bl0_ref_12.pdb' automatically determined to be of type PDB\n",
      "protocols.stepwise.modeler.align.StepWisePoseAligner: RMSD 0.000 (0 atoms in ), superimposed on 349 atoms in 1-116 (RMSD 114.2312217)\n",
      "protocols.stepwise.modeler.align.StepWisePoseAligner: RMSD 0.000 (0 atoms in ), superimposed on 349 atoms in 1-116 (RMSD 112.4652070)\n",
      "protocols.stepwise.modeler.align.StepWisePoseAligner: RMSD 0.000 (0 atoms in ), superimposed on 349 atoms in 1-116 (RMSD 107.4868324)\n",
      "protocols.stepwise.modeler.align.StepWisePoseAligner: RMSD 0.000 (0 atoms in ), superimposed on 349 atoms in 1-116 (RMSD 110.7198239)\n"
     ]
    }
   ],
   "source": [
    "files = [x for x in os.listdir(path) if not x.find(name) == -1]    \n",
    "pdbfiles = [pdbfile for pdbfile in files if pdbfile.endswith(\".pdb\")]\n",
    "poses = [pose_from_pdb(path + y) for y in pdbfiles]\n",
    "sf = create_score_function('score12') \n",
    "\n",
    "rmsds = rmsd(linear_seq_2, poses)\n",
    "\n",
    "rmsd_data = []\n",
    "for i in range(1, len(decoy_poses)):  # print out the job scores\n",
    "    rmsd_data.append({'Structure': decoy_poses[i].pdb_info().name(), \n",
    "                      'RMSD': rmsds[i],\n",
    "                      'Score': sf(decoy_poses[i])})"
   ]
  },
  {
   "cell_type": "code",
   "execution_count": 120,
   "metadata": {},
   "outputs": [
    {
     "data": {
      "text/html": [
       "<div>\n",
       "<style scoped>\n",
       "    .dataframe tbody tr th:only-of-type {\n",
       "        vertical-align: middle;\n",
       "    }\n",
       "\n",
       "    .dataframe tbody tr th {\n",
       "        vertical-align: top;\n",
       "    }\n",
       "\n",
       "    .dataframe thead th {\n",
       "        text-align: right;\n",
       "    }\n",
       "</style>\n",
       "<table border=\"1\" class=\"dataframe\">\n",
       "  <thead>\n",
       "    <tr style=\"text-align: right;\">\n",
       "      <th></th>\n",
       "      <th>RMSD</th>\n",
       "      <th>Score</th>\n",
       "      <th>Structure</th>\n",
       "    </tr>\n",
       "  </thead>\n",
       "  <tbody>\n",
       "    <tr>\n",
       "      <th>1</th>\n",
       "      <td>107.486832</td>\n",
       "      <td>-171.737131</td>\n",
       "      <td>files/structures/ref/1bl0_ref_50.pdb</td>\n",
       "    </tr>\n",
       "    <tr>\n",
       "      <th>2</th>\n",
       "      <td>110.719824</td>\n",
       "      <td>-181.940628</td>\n",
       "      <td>files/structures/ref/1bl0_ref_12.pdb</td>\n",
       "    </tr>\n",
       "    <tr>\n",
       "      <th>0</th>\n",
       "      <td>112.465207</td>\n",
       "      <td>-170.798315</td>\n",
       "      <td>files/structures/ref/1bl0_ref_7.pdb</td>\n",
       "    </tr>\n",
       "  </tbody>\n",
       "</table>\n",
       "</div>"
      ],
      "text/plain": [
       "         RMSD       Score                             Structure\n",
       "1  107.486832 -171.737131  files/structures/ref/1bl0_ref_50.pdb\n",
       "2  110.719824 -181.940628  files/structures/ref/1bl0_ref_12.pdb\n",
       "0  112.465207 -170.798315   files/structures/ref/1bl0_ref_7.pdb"
      ]
     },
     "execution_count": 120,
     "metadata": {},
     "output_type": "execute_result"
    }
   ],
   "source": [
    "rmsd_df = pd.DataFrame(rmsd_data)\n",
    "rmsd_df.sort_values('RMSD')"
   ]
  },
  {
   "cell_type": "markdown",
   "metadata": {},
   "source": [
    "Непосредственно графики:"
   ]
  },
  {
   "cell_type": "code",
   "execution_count": null,
   "metadata": {},
   "outputs": [],
   "source": [
    "df = pd.read_csv(\"data.csv\", sep=\",\")\n",
    "sns.scatterplot(y=\"energy_score\", x=\"rmsd\", data=df)"
   ]
  }
 ],
 "metadata": {
  "kernelspec": {
   "display_name": "Python 3",
   "language": "python",
   "name": "python3"
  },
  "language_info": {
   "codemirror_mode": {
    "name": "ipython",
    "version": 3
   },
   "file_extension": ".py",
   "mimetype": "text/x-python",
   "name": "python",
   "nbconvert_exporter": "python",
   "pygments_lexer": "ipython3",
   "version": "3.6.7"
  }
 },
 "nbformat": 4,
 "nbformat_minor": 2
}
